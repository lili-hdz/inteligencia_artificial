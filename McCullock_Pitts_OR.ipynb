{
  "nbformat": 4,
  "nbformat_minor": 0,
  "metadata": {
    "colab": {
      "provenance": []
    },
    "kernelspec": {
      "name": "python3",
      "display_name": "Python 3"
    },
    "language_info": {
      "name": "python"
    }
  },
  "cells": [
    {
      "cell_type": "code",
      "source": [
        "import numpy as np\n",
        "# Entradas para el perceptron\n",
        "X = np.array([\n",
        "    [0,0],\n",
        "    [0,1],\n",
        "    [1,0],\n",
        "    [1,1]\n",
        "])\n",
        "# Salidas\n",
        "Y = np.array([0, 0, 0, 1])\n",
        "# Pesos para las entradas\n",
        "# Estos parametros son para la operación logica OR\n",
        "W = ([7, 19])\n",
        "# Umbral para la función de activación\n",
        "umbral = 7"
      ],
      "metadata": {
        "id": "cofyQFPrs0BW"
      },
      "execution_count": 30,
      "outputs": []
    },
    {
      "cell_type": "code",
      "source": [
        "class McCullochPitts:\n",
        "    def __init__(self, weights, umbral):\n",
        "        self.weights = weights\n",
        "        self.umbral = umbral\n",
        "    def predict(self, X):\n",
        "         predictions = []\n",
        "         for i in range(X.shape[0]):\n",
        "            weighted_sum = np.dot(self.weights, X[i])\n",
        "            print(f\"Input: {X[i]}, Weighted Sum: {weighted_sum}\")\n",
        "            ##Si el umbral es mayor que el número más pequeño de los pesos ya no saldra la operación, porqué excede el límite\n",
        "            #que ya se habia fijado.\n",
        "            if weighted_sum >= self.umbral:\n",
        "               predictions.append(1)\n",
        "            else:\n",
        "                predictions.append(0)\n",
        "         return predictions"
      ],
      "metadata": {
        "id": "aeSnD3PYs6cU"
      },
      "execution_count": 31,
      "outputs": []
    },
    {
      "cell_type": "code",
      "source": [
        "mcp = McCullochPitts(W, umbral)\n",
        "predictions = mcp.predict(X)\n",
        "print(\"Predictions:\", predictions)\n"
      ],
      "metadata": {
        "colab": {
          "base_uri": "https://localhost:8080/"
        },
        "id": "5U_U_xOVs-RB",
        "outputId": "804af989-5a2f-46dc-a973-7bc0205a2674"
      },
      "execution_count": 32,
      "outputs": [
        {
          "output_type": "stream",
          "name": "stdout",
          "text": [
            "Input: [0 0], Weighted Sum: 0\n",
            "Input: [0 1], Weighted Sum: 19\n",
            "Input: [1 0], Weighted Sum: 7\n",
            "Input: [1 1], Weighted Sum: 26\n",
            "Predictions: [0, 1, 1, 1]\n"
          ]
        }
      ]
    }
  ]
}