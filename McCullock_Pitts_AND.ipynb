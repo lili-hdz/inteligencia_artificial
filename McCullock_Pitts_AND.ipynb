{
  "nbformat": 4,
  "nbformat_minor": 0,
  "metadata": {
    "colab": {
      "provenance": []
    },
    "kernelspec": {
      "name": "python3",
      "display_name": "Python 3"
    },
    "language_info": {
      "name": "python"
    }
  },
  "cells": [
    {
      "cell_type": "code",
      "execution_count": 37,
      "metadata": {
        "id": "id02217fshly"
      },
      "outputs": [],
      "source": [
        "import numpy as np\n",
        "# Entradas para el perceptron\n",
        "X = np.array([\n",
        "    [0,0],\n",
        "    [0,1],\n",
        "    [1,0],\n",
        "    [1,1]\n",
        "])\n",
        "# Salidas\n",
        "Y = np.array([0, 0, 0, 1])\n",
        "# Weights (Pesos para las entradas)\n",
        "# Estos parametros funcionan para la operacion logica AND\n",
        "W = ([5, 7])\n",
        "# Umbral para la función de activación\n",
        "umbral = 12"
      ]
    },
    {
      "cell_type": "code",
      "source": [
        "class McCullochPitts:\n",
        "    def __init__(self, weights, umbral):\n",
        "        self.weights = weights\n",
        "        self.umbral = umbral\n",
        "    def predict(self, X):\n",
        "         predictions = []\n",
        "         for i in range(X.shape[0]):\n",
        "            weighted_sum = np.dot(self.weights, X[i])\n",
        "            print(f\"Input: {X[i]}, Weighted Sum: {weighted_sum}\")\n",
        "            #Si la suma de los pesos son mayores o iguales al umbral sera 1 y sino sera 0\n",
        "            if weighted_sum >= self.umbral:\n",
        "               predictions.append(1)\n",
        "            else:\n",
        "                predictions.append(0)\n",
        "         return predictions"
      ],
      "metadata": {
        "id": "cejQHLknsmt2"
      },
      "execution_count": 38,
      "outputs": []
    },
    {
      "cell_type": "code",
      "source": [
        "mcp = McCullochPitts(W, umbral)\n",
        "predictions = mcp.predict(X)\n",
        "print(\"Predictions:\", predictions)\n",
        "#si se cambia el umbral usando un número mayor a la suma ya no funciona la operación lógica, porqué excede el límite que se puso."
      ],
      "metadata": {
        "colab": {
          "base_uri": "https://localhost:8080/"
        },
        "id": "7WGYJ4SmsuD8",
        "outputId": "47623d44-68d9-4df7-8c58-468dd80c7669"
      },
      "execution_count": 39,
      "outputs": [
        {
          "output_type": "stream",
          "name": "stdout",
          "text": [
            "Input: [0 0], Weighted Sum: 0\n",
            "Input: [0 1], Weighted Sum: 7\n",
            "Input: [1 0], Weighted Sum: 5\n",
            "Input: [1 1], Weighted Sum: 12\n",
            "Predictions: [0, 0, 0, 1]\n"
          ]
        }
      ]
    }
  ]
}